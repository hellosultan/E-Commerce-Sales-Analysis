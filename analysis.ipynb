{
 "cells": [
  {
   "cell_type": "markdown",
   "id": "9afc8cbe",
   "metadata": {},
   "source": [
    "# E-Commerce Sales Analysis"
   ]
  },
  {
   "cell_type": "code",
   "execution_count": null,
   "id": "ead6d0cb",
   "metadata": {},
   "outputs": [],
   "source": [
    "\n",
    "import pandas as pd\n",
    "import sqlite3\n",
    "\n",
    "# Connect to the SQLite database\n",
    "conn = sqlite3.connect('ecommerce.db')\n",
    "\n",
    "# Query: Monthly Revenue\n",
    "query = '''\n",
    "SELECT strftime('%Y-%m', OrderDate) AS Month, SUM(Sales) AS Revenue\n",
    "FROM SalesData\n",
    "GROUP BY Month\n",
    "ORDER BY Month;\n",
    "'''\n",
    "df = pd.read_sql_query(query, conn)\n",
    "\n",
    "# Display the data\n",
    "print(df)\n",
    "\n",
    "# Plot the results\n",
    "df.plot(x='Month', y='Revenue', kind='line', title='Monthly Revenue Trend')\n",
    "\n",
    "conn.close()\n",
    "    "
   ]
  }
 ],
 "metadata": {},
 "nbformat": 4,
 "nbformat_minor": 5
}